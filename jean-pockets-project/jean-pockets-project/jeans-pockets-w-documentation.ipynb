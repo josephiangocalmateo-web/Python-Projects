{
 "cells": [
  {
   "cell_type": "markdown",
   "id": "3cf13f4c",
   "metadata": {},
   "source": [
    "# Jean pockets\n",
    "\n",
    "Are women jean pockets ridiculously small? Let's look at the data!\n",
    "\n",
    "The file `jean-pocket-measurements.csv` shows pocket measurements for 20 popular brands.\n",
    "Four pairs of jeans from each brand were measured: men's and women's skinny and straight styles. All jeans were designated a 32-inch waistband. \n",
    "\n",
    "The following measurements are included:\n",
    "- `height_front`: maximum front pocket height (cm)\n",
    "- `height_back`: maximum back pocket height (cm)\n",
    "- `width_front`: maximum front pocket width (cm)\n",
    "- `width_back`: maximum back pocket width (cm)"
   ]
  },
  {
   "cell_type": "code",
   "execution_count": 1,
   "id": "c0da98df",
   "metadata": {},
   "outputs": [
    {
     "data": {
      "text/html": [
       "<div>\n",
       "<style scoped>\n",
       "    .dataframe tbody tr th:only-of-type {\n",
       "        vertical-align: middle;\n",
       "    }\n",
       "\n",
       "    .dataframe tbody tr th {\n",
       "        vertical-align: top;\n",
       "    }\n",
       "\n",
       "    .dataframe thead th {\n",
       "        text-align: right;\n",
       "    }\n",
       "</style>\n",
       "<table border=\"1\" class=\"dataframe\">\n",
       "  <thead>\n",
       "    <tr style=\"text-align: right;\">\n",
       "      <th></th>\n",
       "      <th>brand</th>\n",
       "      <th>style</th>\n",
       "      <th>gender</th>\n",
       "      <th>height_front</th>\n",
       "      <th>width_front</th>\n",
       "      <th>height_back</th>\n",
       "      <th>width_back</th>\n",
       "    </tr>\n",
       "  </thead>\n",
       "  <tbody>\n",
       "    <tr>\n",
       "      <th>0</th>\n",
       "      <td>3fe5003e</td>\n",
       "      <td>skinny</td>\n",
       "      <td>women</td>\n",
       "      <td>14.5</td>\n",
       "      <td>16.5</td>\n",
       "      <td>15.0</td>\n",
       "      <td>13.7</td>\n",
       "    </tr>\n",
       "    <tr>\n",
       "      <th>1</th>\n",
       "      <td>3fe5003e</td>\n",
       "      <td>straight</td>\n",
       "      <td>women</td>\n",
       "      <td>14.5</td>\n",
       "      <td>16.0</td>\n",
       "      <td>15.5</td>\n",
       "      <td>13.0</td>\n",
       "    </tr>\n",
       "    <tr>\n",
       "      <th>2</th>\n",
       "      <td>790c6eab</td>\n",
       "      <td>skinny</td>\n",
       "      <td>women</td>\n",
       "      <td>13.0</td>\n",
       "      <td>14.5</td>\n",
       "      <td>15.5</td>\n",
       "      <td>13.5</td>\n",
       "    </tr>\n",
       "    <tr>\n",
       "      <th>3</th>\n",
       "      <td>790c6eab</td>\n",
       "      <td>straight</td>\n",
       "      <td>women</td>\n",
       "      <td>13.0</td>\n",
       "      <td>14.5</td>\n",
       "      <td>14.5</td>\n",
       "      <td>13.0</td>\n",
       "    </tr>\n",
       "    <tr>\n",
       "      <th>4</th>\n",
       "      <td>26aaf627</td>\n",
       "      <td>skinny</td>\n",
       "      <td>women</td>\n",
       "      <td>13.0</td>\n",
       "      <td>14.0</td>\n",
       "      <td>14.0</td>\n",
       "      <td>14.2</td>\n",
       "    </tr>\n",
       "    <tr>\n",
       "      <th>...</th>\n",
       "      <td>...</td>\n",
       "      <td>...</td>\n",
       "      <td>...</td>\n",
       "      <td>...</td>\n",
       "      <td>...</td>\n",
       "      <td>...</td>\n",
       "      <td>...</td>\n",
       "    </tr>\n",
       "    <tr>\n",
       "      <th>75</th>\n",
       "      <td>afb94ef0</td>\n",
       "      <td>straight</td>\n",
       "      <td>men</td>\n",
       "      <td>28.0</td>\n",
       "      <td>13.0</td>\n",
       "      <td>16.7</td>\n",
       "      <td>14.5</td>\n",
       "    </tr>\n",
       "    <tr>\n",
       "      <th>76</th>\n",
       "      <td>49d2b8a1</td>\n",
       "      <td>straight</td>\n",
       "      <td>women</td>\n",
       "      <td>15.0</td>\n",
       "      <td>16.0</td>\n",
       "      <td>14.5</td>\n",
       "      <td>13.5</td>\n",
       "    </tr>\n",
       "    <tr>\n",
       "      <th>77</th>\n",
       "      <td>49d2b8a1</td>\n",
       "      <td>skinny</td>\n",
       "      <td>women</td>\n",
       "      <td>14.5</td>\n",
       "      <td>16.0</td>\n",
       "      <td>14.0</td>\n",
       "      <td>14.0</td>\n",
       "    </tr>\n",
       "    <tr>\n",
       "      <th>78</th>\n",
       "      <td>49d2b8a1</td>\n",
       "      <td>straight</td>\n",
       "      <td>men</td>\n",
       "      <td>21.0</td>\n",
       "      <td>18.5</td>\n",
       "      <td>16.0</td>\n",
       "      <td>13.0</td>\n",
       "    </tr>\n",
       "    <tr>\n",
       "      <th>79</th>\n",
       "      <td>49d2b8a1</td>\n",
       "      <td>skinny</td>\n",
       "      <td>men</td>\n",
       "      <td>21.0</td>\n",
       "      <td>19.0</td>\n",
       "      <td>16.0</td>\n",
       "      <td>14.0</td>\n",
       "    </tr>\n",
       "  </tbody>\n",
       "</table>\n",
       "<p>80 rows × 7 columns</p>\n",
       "</div>"
      ],
      "text/plain": [
       "       brand     style gender  height_front  width_front  height_back  \\\n",
       "0   3fe5003e    skinny  women          14.5         16.5         15.0   \n",
       "1   3fe5003e  straight  women          14.5         16.0         15.5   \n",
       "2   790c6eab    skinny  women          13.0         14.5         15.5   \n",
       "3   790c6eab  straight  women          13.0         14.5         14.5   \n",
       "4   26aaf627    skinny  women          13.0         14.0         14.0   \n",
       "..       ...       ...    ...           ...          ...          ...   \n",
       "75  afb94ef0  straight    men          28.0         13.0         16.7   \n",
       "76  49d2b8a1  straight  women          15.0         16.0         14.5   \n",
       "77  49d2b8a1    skinny  women          14.5         16.0         14.0   \n",
       "78  49d2b8a1  straight    men          21.0         18.5         16.0   \n",
       "79  49d2b8a1    skinny    men          21.0         19.0         16.0   \n",
       "\n",
       "    width_back  \n",
       "0         13.7  \n",
       "1         13.0  \n",
       "2         13.5  \n",
       "3         13.0  \n",
       "4         14.2  \n",
       "..         ...  \n",
       "75        14.5  \n",
       "76        13.5  \n",
       "77        14.0  \n",
       "78        13.0  \n",
       "79        14.0  \n",
       "\n",
       "[80 rows x 7 columns]"
      ]
     },
     "execution_count": 1,
     "metadata": {},
     "output_type": "execute_result"
    }
   ],
   "source": [
    "import pandas as pd\n",
    "df = pd.read_csv('jean-pocket-measurements.csv')\n",
    "df"
   ]
  },
  {
   "cell_type": "markdown",
   "id": "c5b9dedc",
   "metadata": {},
   "source": [
    "### Project Ideas\n",
    "\n",
    "- What is the average difference in pocket `height_front` between women's and men's jeans?\n",
    "\n",
    "- Is there a significant difference in pocket `height_front` between skinny and straight styles within the same gender?\n",
    "\n",
    "- How do back pocket sizes compare between women's and men's jeans?"
   ]
  },
  {
   "cell_type": "markdown",
   "id": "38c33ca1",
   "metadata": {},
   "source": [
    "What is the average difference in pocket `height_front` between women's and men's jeans?"
   ]
  },
  {
   "cell_type": "code",
   "execution_count": 2,
   "id": "f646cd90",
   "metadata": {},
   "outputs": [
    {
     "data": {
      "text/plain": [
       "np.float64(-8.802500000000002)"
      ]
     },
     "execution_count": 2,
     "metadata": {},
     "output_type": "execute_result"
    }
   ],
   "source": [
    "difference_height_front = df.groupby('gender')['height_front'].mean().diff().iloc[-1]\n",
    "difference_height_front"
   ]
  },
  {
   "cell_type": "markdown",
   "id": "5fef87e4",
   "metadata": {},
   "source": [
    "The average difference in pocket height_front between women's and men's jeans is 8.8cm"
   ]
  },
  {
   "cell_type": "markdown",
   "id": "8712094a",
   "metadata": {},
   "source": [
    "Is there a significant difference in pocket `height_front` between skinny and straight styles within the same gender?"
   ]
  },
  {
   "cell_type": "code",
   "execution_count": 8,
   "id": "5b30a4be",
   "metadata": {},
   "outputs": [
    {
     "data": {
      "text/html": [
       "<div>\n",
       "<style scoped>\n",
       "    .dataframe tbody tr th:only-of-type {\n",
       "        vertical-align: middle;\n",
       "    }\n",
       "\n",
       "    .dataframe tbody tr th {\n",
       "        vertical-align: top;\n",
       "    }\n",
       "\n",
       "    .dataframe thead th {\n",
       "        text-align: right;\n",
       "    }\n",
       "</style>\n",
       "<table border=\"1\" class=\"dataframe\">\n",
       "  <thead>\n",
       "    <tr style=\"text-align: right;\">\n",
       "      <th></th>\n",
       "      <th>style</th>\n",
       "      <th>gender</th>\n",
       "      <th>height_front</th>\n",
       "    </tr>\n",
       "  </thead>\n",
       "  <tbody>\n",
       "    <tr>\n",
       "      <th>0</th>\n",
       "      <td>skinny</td>\n",
       "      <td>men</td>\n",
       "      <td>23.185</td>\n",
       "    </tr>\n",
       "    <tr>\n",
       "      <th>1</th>\n",
       "      <td>skinny</td>\n",
       "      <td>women</td>\n",
       "      <td>14.270</td>\n",
       "    </tr>\n",
       "    <tr>\n",
       "      <th>2</th>\n",
       "      <td>straight</td>\n",
       "      <td>men</td>\n",
       "      <td>23.075</td>\n",
       "    </tr>\n",
       "    <tr>\n",
       "      <th>3</th>\n",
       "      <td>straight</td>\n",
       "      <td>women</td>\n",
       "      <td>14.385</td>\n",
       "    </tr>\n",
       "  </tbody>\n",
       "</table>\n",
       "</div>"
      ],
      "text/plain": [
       "      style gender  height_front\n",
       "0    skinny    men        23.185\n",
       "1    skinny  women        14.270\n",
       "2  straight    men        23.075\n",
       "3  straight  women        14.385"
      ]
     },
     "execution_count": 8,
     "metadata": {},
     "output_type": "execute_result"
    }
   ],
   "source": [
    "# Grouping the dataframe by styles\n",
    "new_group = df.groupby(['style','gender'])['height_front'].mean()\n",
    "new_group.reset_index()"
   ]
  },
  {
   "cell_type": "markdown",
   "id": "d638798f",
   "metadata": {},
   "source": [
    "Between the two styles and gender, we can see that there is a significant difference between them. Almost the same values, women has significantly lower height front in both straight and skinny styles. Men's pockets are higher and deeper on average because of a long-standing cultural emphasis on women's fashion prioritizing aesthetics over functionality, a historical tradition of women carrying bags, and the association of pockets with masculinity. While the specific height difference may vary, the overall trend shows men's pockets are designed to be more useful for carrying objects, a design feature that has been historically limited or absent in women's clothing"
   ]
  },
  {
   "cell_type": "markdown",
   "id": "4d936f1e",
   "metadata": {},
   "source": [
    "How do back pocket sizes compare between women's and men's jeans?"
   ]
  },
  {
   "cell_type": "code",
   "execution_count": 14,
   "id": "d2e8c0cc",
   "metadata": {},
   "outputs": [
    {
     "data": {
      "text/html": [
       "<div>\n",
       "<style scoped>\n",
       "    .dataframe tbody tr th:only-of-type {\n",
       "        vertical-align: middle;\n",
       "    }\n",
       "\n",
       "    .dataframe tbody tr th {\n",
       "        vertical-align: top;\n",
       "    }\n",
       "\n",
       "    .dataframe thead th {\n",
       "        text-align: right;\n",
       "    }\n",
       "</style>\n",
       "<table border=\"1\" class=\"dataframe\">\n",
       "  <thead>\n",
       "    <tr style=\"text-align: right;\">\n",
       "      <th></th>\n",
       "      <th>gender</th>\n",
       "      <th>mean_backpocket_avg</th>\n",
       "    </tr>\n",
       "  </thead>\n",
       "  <tbody>\n",
       "    <tr>\n",
       "      <th>0</th>\n",
       "      <td>men</td>\n",
       "      <td>219.70875</td>\n",
       "    </tr>\n",
       "    <tr>\n",
       "      <th>1</th>\n",
       "      <td>women</td>\n",
       "      <td>201.82125</td>\n",
       "    </tr>\n",
       "  </tbody>\n",
       "</table>\n",
       "</div>"
      ],
      "text/plain": [
       "  gender  mean_backpocket_avg\n",
       "0    men            219.70875\n",
       "1  women            201.82125"
      ]
     },
     "execution_count": 14,
     "metadata": {},
     "output_type": "execute_result"
    }
   ],
   "source": [
    "# Calculate the area of the back pockets\n",
    "df['back_pocket_area'] = df['width_back'] * df['height_back']\n",
    "\n",
    "# Calculate mean pocket height for each gender\n",
    "mean_backpocket = df.groupby('gender')['back_pocket_area'].mean()\n",
    "mean_backpocket.reset_index(name='mean_backpocket_avg')"
   ]
  },
  {
   "cell_type": "markdown",
   "id": "d2ba9c5e",
   "metadata": {},
   "source": [
    "Based on the quick solution, men's backpocket are atleast 18cm larger then women's backpocket. According to a quick search, men's back pockets are larger due to patriarchal design principles in the fashion industry, prioritizing a figure-hugging silhouette for women over functionality, which became standard after World War II. This decision often leads to women carrying purses to hold items, sometimes seen as a way for the industry to sell more accessories. Additionally, the design may be influenced by the historical expectation for men to carry items and women to carry a purse. "
   ]
  }
 ],
 "metadata": {
  "kernelspec": {
   "display_name": "Python 3",
   "language": "python",
   "name": "python3"
  },
  "language_info": {
   "codemirror_mode": {
    "name": "ipython",
    "version": 3
   },
   "file_extension": ".py",
   "mimetype": "text/x-python",
   "name": "python",
   "nbconvert_exporter": "python",
   "pygments_lexer": "ipython3",
   "version": "3.13.7"
  }
 },
 "nbformat": 4,
 "nbformat_minor": 5
}
